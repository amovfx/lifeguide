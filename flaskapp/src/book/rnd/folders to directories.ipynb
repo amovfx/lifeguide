{
 "cells": [
  {
   "cell_type": "code",
   "execution_count": 117,
   "metadata": {
    "collapsed": true,
    "pycharm": {
     "name": "#%%\n"
    }
   },
   "outputs": [
    {
     "name": "stdout",
     "output_type": "stream",
     "text": [
      "hi\n"
     ]
    }
   ],
   "source": [
    "from collections import defaultdict\n",
    "from itertools import starmap\n",
    "import os\n",
    "import pprint\n",
    "print(\"hi\")\n",
    "def dprint(d):\n",
    "\n",
    "    pprint.PrettyPrinter(indent=1, sort_dicts=True, depth=3)\n",
    "    pprint.pprint(d)"
   ]
  },
  {
   "cell_type": "code",
   "execution_count": 122,
   "outputs": [
    {
     "name": "stdout",
     "output_type": "stream",
     "text": [
      "/Users/andrewoseen/git/lifeguide/flaskapp/src/book/rnd\n",
      "1\n",
      "2\n",
      "4\n",
      "7\n",
      "14\n",
      "3\n",
      "3\n",
      "5\n"
     ]
    }
   ],
   "source": [
    "root = '../static/content/lifeguide'\n",
    "print(os.getcwd())\n",
    "menu = defaultdict(list)\n",
    "pages = []\n",
    "\n",
    "def item_sort(x):\n",
    "    parts = x.split(\".\")\n",
    "    if len(parts) == 3:\n",
    "        return int(parts[-2])\n",
    "    else:\n",
    "        return 0\n",
    "\n",
    "def pairing(a,b):\n",
    "    return [a, b]\n",
    "counter = 0\n",
    "def build_book_menu(path, menu):\n",
    "\n",
    "    global counter\n",
    "\n",
    "\n",
    "    def pairing(a,b):\n",
    "        return [a + counter, b]\n",
    "\n",
    "    path, dirs, files = (next(os.walk(path)))\n",
    "    dirs.sort()\n",
    "    branch_name = path.split(os.sep)[-1]\n",
    "\n",
    "    if files:\n",
    "        files.sort(key=item_sort)\n",
    "        files = list(files)\n",
    "        sorted_files = list(starmap(pairing, enumerate(files) ))\n",
    "        print (len(files))\n",
    "        counter += len(files)\n",
    "\n",
    "        pages.extend(files)\n",
    "        menu[branch_name].extend(sorted_files)\n",
    "\n",
    "\n",
    "    for dir in dirs:\n",
    "        branch = defaultdict(list)\n",
    "        build_book_menu(os.path.join(path,dir), branch)\n",
    "        menu[branch_name].append(branch)\n",
    "\n",
    "\n",
    "\n",
    "\n",
    "build_book_menu(root, menu)"
   ],
   "metadata": {
    "collapsed": false,
    "pycharm": {
     "name": "#%%\n"
    }
   }
  },
  {
   "cell_type": "code",
   "execution_count": 123,
   "outputs": [
    {
     "name": "stdout",
     "output_type": "stream",
     "text": [
      "{\n",
      " \"lifeguide\": [\n",
      "  [\n",
      "   0,\n",
      "   \"Intro.01.md\"\n",
      "  ],\n",
      "  {\n",
      "   \"01_autonomy\": [\n",
      "    [\n",
      "     1,\n",
      "     \"autonomy.jpg\"\n",
      "    ],\n",
      "    [\n",
      "     2,\n",
      "     \"Autonomy.02.md\"\n",
      "    ],\n",
      "    {\n",
      "     \"01_current_mindset\": [\n",
      "      [\n",
      "       3,\n",
      "       \"current_mindset.03.md\"\n",
      "      ],\n",
      "      [\n",
      "       4,\n",
      "       \"psychometrics.04.md\"\n",
      "      ],\n",
      "      [\n",
      "       5,\n",
      "       \"motivations.05.md\"\n",
      "      ],\n",
      "      [\n",
      "       6,\n",
      "       \"cognitive_biases.06.md\"\n",
      "      ]\n",
      "     ]\n",
      "    },\n",
      "    {\n",
      "     \"02_next_mindset\": [\n",
      "      [\n",
      "       7,\n",
      "       \"next_mindset.07.md\"\n",
      "      ],\n",
      "      [\n",
      "       8,\n",
      "       \"grit.08.md\"\n",
      "      ],\n",
      "      [\n",
      "       9,\n",
      "       \"patience.09.md\"\n",
      "      ],\n",
      "      [\n",
      "       10,\n",
      "       \"willpower.10.md\"\n",
      "      ],\n",
      "      [\n",
      "       11,\n",
      "       \"humility.11.md\"\n",
      "      ],\n",
      "      [\n",
      "       12,\n",
      "       \"curiosity.12.md\"\n",
      "      ],\n",
      "      [\n",
      "       13,\n",
      "       \"vision.13.md\"\n",
      "      ]\n",
      "     ]\n",
      "    }\n",
      "   ]\n",
      "  },\n",
      "  {\n",
      "   \"02_mastery\": [\n",
      "    [\n",
      "     14,\n",
      "     \"mastery.jpg\"\n",
      "    ],\n",
      "    [\n",
      "     15,\n",
      "     \"index.14.md\"\n",
      "    ],\n",
      "    [\n",
      "     16,\n",
      "     \"habits.15.md\"\n",
      "    ],\n",
      "    [\n",
      "     17,\n",
      "     \"exercise.16.md\"\n",
      "    ],\n",
      "    [\n",
      "     18,\n",
      "     \"sleep.17.md\"\n",
      "    ],\n",
      "    [\n",
      "     19,\n",
      "     \"nutrition.18.md\"\n",
      "    ],\n",
      "    [\n",
      "     20,\n",
      "     \"finances.19.md\"\n",
      "    ],\n",
      "    [\n",
      "     21,\n",
      "     \"focus.20.md\"\n",
      "    ],\n",
      "    [\n",
      "     22,\n",
      "     \"goals.21.md\"\n",
      "    ],\n",
      "    [\n",
      "     23,\n",
      "     \"fear.22.md\"\n",
      "    ],\n",
      "    [\n",
      "     24,\n",
      "     \"environment.23.md\"\n",
      "    ],\n",
      "    [\n",
      "     25,\n",
      "     \"data_management.24.md\"\n",
      "    ],\n",
      "    [\n",
      "     26,\n",
      "     \"investing_strategy.25.md\"\n",
      "    ],\n",
      "    [\n",
      "     27,\n",
      "     \"time_management.25.md\"\n",
      "    ]\n",
      "   ]\n",
      "  },\n",
      "  {\n",
      "   \"03_purpose\": [\n",
      "    [\n",
      "     28,\n",
      "     \"_sidebar.md\"\n",
      "    ],\n",
      "    [\n",
      "     29,\n",
      "     \"ape_final.jpg\"\n",
      "    ],\n",
      "    [\n",
      "     30,\n",
      "     \"index.26.md\"\n",
      "    ],\n",
      "    {\n",
      "     \"environment\": [\n",
      "      [\n",
      "       31,\n",
      "       \"future.md\"\n",
      "      ],\n",
      "      [\n",
      "       32,\n",
      "       \"past.md\"\n",
      "      ],\n",
      "      [\n",
      "       33,\n",
      "       \"present.md\"\n",
      "      ]\n",
      "     ]\n",
      "    },\n",
      "    {\n",
      "     \"relationships\": [\n",
      "      [\n",
      "       34,\n",
      "       \"social_skill.md\"\n",
      "      ],\n",
      "      [\n",
      "       35,\n",
      "       \"trust.md\"\n",
      "      ],\n",
      "      [\n",
      "       36,\n",
      "       \"relationships.md\"\n",
      "      ],\n",
      "      [\n",
      "       37,\n",
      "       \"teamwork.md\"\n",
      "      ],\n",
      "      [\n",
      "       38,\n",
      "       \"negotiating.md\"\n",
      "      ]\n",
      "     ]\n",
      "    }\n",
      "   ]\n",
      "  }\n",
      " ]\n",
      "}\n"
     ]
    }
   ],
   "source": [
    "import json\n",
    "print(json.dumps(dict(menu), indent=1, sort_keys=True))"
   ],
   "metadata": {
    "collapsed": false,
    "pycharm": {
     "name": "#%%\n"
    }
   }
  },
  {
   "cell_type": "code",
   "execution_count": 116,
   "outputs": [
    {
     "name": "stdout",
     "output_type": "stream",
     "text": [
      "['Intro.01.md']\n"
     ]
    }
   ],
   "source": [
    "print(pages)"
   ],
   "metadata": {
    "collapsed": false,
    "pycharm": {
     "name": "#%%\n"
    }
   }
  },
  {
   "cell_type": "code",
   "execution_count": 105,
   "outputs": [
    {
     "data": {
      "text/plain": "['..', 'static', 'content/lifeguide']"
     },
     "execution_count": 105,
     "metadata": {},
     "output_type": "execute_result"
    }
   ],
   "source": [
    "'../static/content/lifeguide'.split(os.sep,2)"
   ],
   "metadata": {
    "collapsed": false,
    "pycharm": {
     "name": "#%%\n"
    }
   }
  },
  {
   "cell_type": "code",
   "execution_count": null,
   "outputs": [],
   "source": [],
   "metadata": {
    "collapsed": false,
    "pycharm": {
     "name": "#%%\n"
    }
   }
  }
 ],
 "metadata": {
  "kernelspec": {
   "display_name": "Python 3",
   "language": "python",
   "name": "python3"
  },
  "language_info": {
   "codemirror_mode": {
    "name": "ipython",
    "version": 2
   },
   "file_extension": ".py",
   "mimetype": "text/x-python",
   "name": "python",
   "nbconvert_exporter": "python",
   "pygments_lexer": "ipython2",
   "version": "2.7.6"
  }
 },
 "nbformat": 4,
 "nbformat_minor": 0
}