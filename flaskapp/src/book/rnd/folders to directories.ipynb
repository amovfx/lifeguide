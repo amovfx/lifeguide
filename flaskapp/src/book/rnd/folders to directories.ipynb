{
 "cells": [
  {
   "cell_type": "code",
   "execution_count": 1,
   "metadata": {
    "collapsed": true,
    "pycharm": {
     "name": "#%%\n"
    }
   },
   "outputs": [
    {
     "name": "stdout",
     "output_type": "stream",
     "text": [
      "hi\n"
     ]
    }
   ],
   "source": [
    "from collections import defaultdict\n",
    "import os\n",
    "import pprint\n",
    "print(\"hi\")\n",
    "def dprint(d):\n",
    "\n",
    "    pprint.PrettyPrinter(indent=1, sort_dicts=True, depth=3)\n",
    "    pprint.pprint(d)"
   ]
  },
  {
   "cell_type": "code",
   "execution_count": 31,
   "outputs": [],
   "source": [
    "root = '../static/content/lifeguide'\n",
    "\n",
    "menu = defaultdict(list)\n",
    "files = []\n",
    "\n",
    "def item_sort(x):\n",
    "    parts = x.split(\".\")\n",
    "    if len(parts) == 3:\n",
    "        return int(parts[-2])\n",
    "    else:\n",
    "        return 0\n",
    "\n",
    "def build_book_menu(path, menu):\n",
    "    path, dirs, files = (next(os.walk(path)))\n",
    "    branch_name = path.split(os.sep)[-1]\n",
    "    if files:\n",
    "        files.sort(key=item_sort)\n",
    "        sorted_files = list(files)\n",
    "        menu[branch_name].extend(sorted_files)\n",
    "\n",
    "    dirs.sort()\n",
    "    for dir in dirs:\n",
    "        branch = defaultdict(list)\n",
    "        build_book_menu(os.path.join(path,dir), branch)\n",
    "        menu[branch_name].append(branch)\n",
    "\n",
    "\n",
    "\n",
    "\n",
    "build_book_menu(root, menu)"
   ],
   "metadata": {
    "collapsed": false,
    "pycharm": {
     "name": "#%%\n"
    }
   }
  },
  {
   "cell_type": "code",
   "execution_count": 36,
   "outputs": [
    {
     "name": "stdout",
     "output_type": "stream",
     "text": [
      "{\n",
      " \"lifeguide\": [\n",
      "  \"Intro.01.md\",\n",
      "  {\n",
      "   \"01_autonomy\": [\n",
      "    \"autonomy.jpg\",\n",
      "    \"Autonomy.02.md\",\n",
      "    {\n",
      "     \"01_current_mindset\": [\n",
      "      \"current_mindset.03.md\",\n",
      "      \"psychometrics.04.md\",\n",
      "      \"motivations.05.md\",\n",
      "      \"cognitive_biases.06.md\"\n",
      "     ]\n",
      "    },\n",
      "    {\n",
      "     \"02_next_mindset\": [\n",
      "      \"next_mindset.07.md\",\n",
      "      \"grit.08.md\",\n",
      "      \"patience.09.md\",\n",
      "      \"willpower.10.md\",\n",
      "      \"humility.11.md\",\n",
      "      \"curiosity.12.md\",\n",
      "      \"vision.13.md\"\n",
      "     ]\n",
      "    }\n",
      "   ]\n",
      "  },\n",
      "  {\n",
      "   \"02_mastery\": [\n",
      "    \"mastery.jpg\",\n",
      "    \"index.14.md\",\n",
      "    \"habits.15.md\",\n",
      "    \"exercise.16.md\",\n",
      "    \"sleep.17.md\",\n",
      "    \"nutrition.18.md\",\n",
      "    \"finances.19.md\",\n",
      "    \"focus.20.md\",\n",
      "    \"goals.21.md\",\n",
      "    \"fear.22.md\",\n",
      "    \"environment.23.md\",\n",
      "    \"data_management.24.md\",\n",
      "    \"investing_strategy.25.md\",\n",
      "    \"time_management.25.md\"\n",
      "   ]\n",
      "  },\n",
      "  {\n",
      "   \"03_purpose\": [\n",
      "    \"_sidebar.md\",\n",
      "    \"ape_final.jpg\",\n",
      "    \"index.26.md\",\n",
      "    {\n",
      "     \"environment\": [\n",
      "      \"future.md\",\n",
      "      \"past.md\",\n",
      "      \"present.md\"\n",
      "     ]\n",
      "    },\n",
      "    {\n",
      "     \"relationships\": [\n",
      "      \"social_skill.md\",\n",
      "      \"trust.md\",\n",
      "      \"relationships.md\",\n",
      "      \"teamwork.md\",\n",
      "      \"negotiating.md\"\n",
      "     ]\n",
      "    }\n",
      "   ]\n",
      "  }\n",
      " ]\n",
      "}\n"
     ]
    }
   ],
   "source": [
    "import json\n",
    "print(json.dumps(dict(menu), indent=1, sort_keys=True))"
   ],
   "metadata": {
    "collapsed": false,
    "pycharm": {
     "name": "#%%\n"
    }
   }
  },
  {
   "cell_type": "code",
   "execution_count": null,
   "outputs": [],
   "source": [],
   "metadata": {
    "collapsed": false,
    "pycharm": {
     "name": "#%%\n"
    }
   }
  }
 ],
 "metadata": {
  "kernelspec": {
   "display_name": "Python 3",
   "language": "python",
   "name": "python3"
  },
  "language_info": {
   "codemirror_mode": {
    "name": "ipython",
    "version": 2
   },
   "file_extension": ".py",
   "mimetype": "text/x-python",
   "name": "python",
   "nbconvert_exporter": "python",
   "pygments_lexer": "ipython2",
   "version": "2.7.6"
  }
 },
 "nbformat": 4,
 "nbformat_minor": 0
}