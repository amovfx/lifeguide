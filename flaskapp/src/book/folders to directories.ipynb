{
 "cells": [
  {
   "cell_type": "code",
   "execution_count": 87,
   "metadata": {
    "collapsed": true,
    "pycharm": {
     "name": "#%%\n"
    }
   },
   "outputs": [],
   "source": [
    "import os"
   ]
  },
  {
   "cell_type": "code",
   "execution_count": 88,
   "outputs": [
    {
     "name": "stdout",
     "output_type": "stream",
     "text": [
      "('', ['02_mastery', '01_autonomy', '03_purpose'], [])\n",
      "('02_mastery', [], ['index.14.md', 'mastery.jpg', 'sleep.17.md', 'nutrition.18.md', 'investing_strategy.25.md', 'goals.21.md', 'finances.19.md', 'exercise.16.md', 'time_management.25.md', 'data_management.24.md', 'environment.23.md', 'focus.20.md', 'habits.15.md', 'fear.22.md'])\n",
      "('01_autonomy', ['02_next_mindset', '01_current_mindset'], ['Autonomy.02.md', 'autonomy.jpg'])\n",
      "('01_autonomy/02_next_mindset', [], ['patience.09.md', 'curiosity.12.md', 'grit.08.md', 'willpower.10.md', 'vision.13.md', 'next_mindset.07.md', 'humility.11.md'])\n",
      "('01_autonomy/01_current_mindset', [], ['current_mindset.03.md', 'psychometrics.04.md', 'cognitive_biases.06.md', 'motivations.05.md'])\n",
      "('03_purpose', ['environment', 'relationships'], ['_sidebar.md', 'index.26.md', 'ape_final.jpg'])\n",
      "('03_purpose/environment', [], ['future.md', 'past.md', 'present.md'])\n",
      "('03_purpose/relationships', [], ['social_skill.md', 'trust.md', 'relationships.md', 'teamwork.md', 'negotiating.md'])\n"
     ]
    }
   ],
   "source": [
    "root = './static/content/lifeguide/'\n",
    "def walk():\n",
    "    for paths, dirs, files in os.walk(root):\n",
    "        yield(paths.split(root)[-1], dirs, files)\n",
    "\n",
    "for data in walk():\n",
    "    print(data)"
   ],
   "metadata": {
    "collapsed": false,
    "pycharm": {
     "name": "#%%\n"
    }
   }
  },
  {
   "cell_type": "code",
   "execution_count": 111,
   "outputs": [],
   "source": [
    "from collections import defaultdict\n",
    "import pprint\n",
    "\n",
    "def build_book_format(p,d,v):\n",
    "    parts = p.split(os.sep,1)\n",
    "\n",
    "    if len(parts) > 1:\n",
    "        branch = defaultdict(list)\n",
    "        build_book_format(parts[1], branch, v)\n",
    "        d[parts[0]].append(branch)\n",
    "\n",
    "    else:\n",
    "        d[parts[0]].extend(v)\n",
    "\n",
    "def item_sort(x):\n",
    "    parts = x.split(\".\")\n",
    "    if len(parts) == 3:\n",
    "        return int(parts[-2])\n",
    "    else:\n",
    "        return 0\n",
    "\n",
    "menu = defaultdict(list)\n",
    "for p, d, f in walk():\n",
    "    if f:\n",
    "        f.sort(key=item_sort)\n",
    "        f = reversed(f)\n",
    "        build_book_format(p, menu , f)"
   ],
   "metadata": {
    "collapsed": false,
    "pycharm": {
     "name": "#%%\n"
    }
   }
  },
  {
   "cell_type": "code",
   "execution_count": 112,
   "outputs": [
    {
     "name": "stdout",
     "output_type": "stream",
     "text": [
      "defaultdict(<class 'list'>,\n",
      "            {'01_autonomy': ['Autonomy.02.md',\n",
      "                             'autonomy.jpg',\n",
      "                             defaultdict(<class 'list'>,\n",
      "                                         {'02_next_mindset': ['vision.13.md',\n",
      "                                                              'curiosity.12.md',\n",
      "                                                              'humility.11.md',\n",
      "                                                              'willpower.10.md',\n",
      "                                                              'patience.09.md',\n",
      "                                                              'grit.08.md',\n",
      "                                                              'next_mindset.07.md']}),\n",
      "                             defaultdict(<class 'list'>,\n",
      "                                         {'01_current_mindset': ['cognitive_biases.06.md',\n",
      "                                                                 'motivations.05.md',\n",
      "                                                                 'psychometrics.04.md',\n",
      "                                                                 'current_mindset.03.md']})],\n",
      "             '02_mastery': ['time_management.25.md',\n",
      "                            'investing_strategy.25.md',\n",
      "                            'data_management.24.md',\n",
      "                            'environment.23.md',\n",
      "                            'fear.22.md',\n",
      "                            'goals.21.md',\n",
      "                            'focus.20.md',\n",
      "                            'finances.19.md',\n",
      "                            'nutrition.18.md',\n",
      "                            'sleep.17.md',\n",
      "                            'exercise.16.md',\n",
      "                            'habits.15.md',\n",
      "                            'index.14.md',\n",
      "                            'mastery.jpg'],\n",
      "             '03_purpose': ['index.26.md',\n",
      "                            'ape_final.jpg',\n",
      "                            '_sidebar.md',\n",
      "                            defaultdict(<class 'list'>,\n",
      "                                        {'environment': ['present.md',\n",
      "                                                         'past.md',\n",
      "                                                         'future.md']}),\n",
      "                            defaultdict(<class 'list'>,\n",
      "                                        {'relationships': ['negotiating.md',\n",
      "                                                           'teamwork.md',\n",
      "                                                           'relationships.md',\n",
      "                                                           'trust.md',\n",
      "                                                           'social_skill.md']})]})\n"
     ]
    }
   ],
   "source": [
    "def dprint(d):\n",
    "\n",
    "    pprint.PrettyPrinter(indent=1, sort_dicts=True, depth=3)\n",
    "    pprint.pprint(d)\n",
    "\n",
    "dprint(menu)"
   ],
   "metadata": {
    "collapsed": false,
    "pycharm": {
     "name": "#%%\n"
    }
   }
  },
  {
   "cell_type": "code",
   "execution_count": 110,
   "outputs": [
    {
     "name": "stdout",
     "output_type": "stream",
     "text": [
      "{\n",
      "    \"01_autonomy\": [\n",
      "        \"autonomy.jpg\",\n",
      "        \"Autonomy.02.md\",\n",
      "        {\n",
      "            \"02_next_mindset\": [\n",
      "                \"next_mindset.07.md\",\n",
      "                \"grit.08.md\",\n",
      "                \"patience.09.md\",\n",
      "                \"willpower.10.md\",\n",
      "                \"humility.11.md\",\n",
      "                \"curiosity.12.md\",\n",
      "                \"vision.13.md\"\n",
      "            ]\n",
      "        },\n",
      "        {\n",
      "            \"01_current_mindset\": [\n",
      "                \"current_mindset.03.md\",\n",
      "                \"psychometrics.04.md\",\n",
      "                \"motivations.05.md\",\n",
      "                \"cognitive_biases.06.md\"\n",
      "            ]\n",
      "        }\n",
      "    ],\n",
      "    \"02_mastery\": [\n",
      "        \"mastery.jpg\",\n",
      "        \"index.14.md\",\n",
      "        \"habits.15.md\",\n",
      "        \"exercise.16.md\",\n",
      "        \"sleep.17.md\",\n",
      "        \"nutrition.18.md\",\n",
      "        \"finances.19.md\",\n",
      "        \"focus.20.md\",\n",
      "        \"goals.21.md\",\n",
      "        \"fear.22.md\",\n",
      "        \"environment.23.md\",\n",
      "        \"data_management.24.md\",\n",
      "        \"investing_strategy.25.md\",\n",
      "        \"time_management.25.md\"\n",
      "    ],\n",
      "    \"03_purpose\": [\n",
      "        \"_sidebar.md\",\n",
      "        \"ape_final.jpg\",\n",
      "        \"index.26.md\",\n",
      "        {\n",
      "            \"environment\": [\n",
      "                \"future.md\",\n",
      "                \"past.md\",\n",
      "                \"present.md\"\n",
      "            ]\n",
      "        },\n",
      "        {\n",
      "            \"relationships\": [\n",
      "                \"social_skill.md\",\n",
      "                \"trust.md\",\n",
      "                \"relationships.md\",\n",
      "                \"teamwork.md\",\n",
      "                \"negotiating.md\"\n",
      "            ]\n",
      "        }\n",
      "    ]\n",
      "}\n"
     ]
    }
   ],
   "source": [
    "import json\n",
    "\n",
    "a = json.dumps(dict(menu), indent=4, sort_keys=True)\n",
    "print(a)"
   ],
   "metadata": {
    "collapsed": false,
    "pycharm": {
     "name": "#%%\n"
    }
   }
  },
  {
   "cell_type": "code",
   "execution_count": null,
   "outputs": [],
   "source": [],
   "metadata": {
    "collapsed": false,
    "pycharm": {
     "name": "#%%\n"
    }
   }
  }
 ],
 "metadata": {
  "kernelspec": {
   "display_name": "Python 3",
   "language": "python",
   "name": "python3"
  },
  "language_info": {
   "codemirror_mode": {
    "name": "ipython",
    "version": 2
   },
   "file_extension": ".py",
   "mimetype": "text/x-python",
   "name": "python",
   "nbconvert_exporter": "python",
   "pygments_lexer": "ipython2",
   "version": "2.7.6"
  }
 },
 "nbformat": 4,
 "nbformat_minor": 0
}